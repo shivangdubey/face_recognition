{
 "cells": [
  {
   "cell_type": "code",
   "execution_count": 1,
   "metadata": {},
   "outputs": [],
   "source": [
    "import cv2\n",
    "import numpy as np"
   ]
  },
  {
   "cell_type": "code",
   "execution_count": 2,
   "metadata": {},
   "outputs": [],
   "source": [
    "cap = cv2.VideoCapture(0)"
   ]
  },
  {
   "cell_type": "code",
   "execution_count": 3,
   "metadata": {},
   "outputs": [],
   "source": [
    "face_cascade = cv2.CascadeClassifier(\"haarcascade_frontalface_alt.xml\")"
   ]
  },
  {
   "cell_type": "code",
   "execution_count": 4,
   "metadata": {},
   "outputs": [
    {
     "name": "stdout",
     "output_type": "stream",
     "text": [
      "Data Saved\n"
     ]
    }
   ],
   "source": [
    "skip =0 \n",
    "face_data =[]\n",
    "while True:\n",
    "    ret, frame = cap.read()\n",
    "    if ret == False:\n",
    "        continue\n",
    "    gray_frame = cv2.cvtColor(frame, cv2.COLOR_BGR2GRAY)   #Converting to Grayscale to save memory\n",
    "    \n",
    "    \n",
    "    faces = face_cascade.detectMultiScale(frame, 1.3,5)\n",
    "    faces = sorted(faces, key=lambda f:f[2]*f[3])   #Identifying largest face by ares (w*h)\n",
    "    \n",
    "    for face in faces[-1:]: #s according to area; -1 would be the largest face \n",
    "        x,y,w,h = face\n",
    "        cv2.rectangle(frame, (x,y), (x+w, y+h), (0,255,255),2)\n",
    "        offset = 10  #To have  safe region around face \n",
    "        face_section = frame[y-offset:y+h+offset, x-offset: x+w+offset]     #Extract: region of interest from the image\n",
    "        face_section = cv2.resize(face_section, (100,100))\n",
    "\n",
    "        skip  += 1\n",
    "        if (skip % 10 ==0):\n",
    "            face_data.append(face_section)\n",
    "    \n",
    "    cv2.imshow(\"Frame\", frame)\n",
    "    cv2.imshow(\"Face Section\", face_section)\n",
    "    \n",
    "    key_pressed = cv2.waitKey(1) & 0xFF\n",
    "    if key_pressed == ord('q'):\n",
    "        break\n",
    "\n",
    "        \n",
    "face_data = np.asarray(face_data)\n",
    "face_data = face_data.reshape((face_data.shape[0], -1))\n",
    "np.save('sneeze.npy', face_data)\n",
    "print(\"Data Saved\")\n",
    "        \n",
    "cap.release()\n",
    "cv2.destroyAllWindows()"
   ]
  },
  {
   "cell_type": "raw",
   "metadata": {},
   "source": [
    "Use grayscale to save memory"
   ]
  },
  {
   "cell_type": "code",
   "execution_count": null,
   "metadata": {},
   "outputs": [],
   "source": []
  }
 ],
 "metadata": {
  "kernelspec": {
   "display_name": "Python 3",
   "language": "python",
   "name": "python3"
  },
  "language_info": {
   "codemirror_mode": {
    "name": "ipython",
    "version": 3
   },
   "file_extension": ".py",
   "mimetype": "text/x-python",
   "name": "python",
   "nbconvert_exporter": "python",
   "pygments_lexer": "ipython3",
   "version": "3.7.9"
  }
 },
 "nbformat": 4,
 "nbformat_minor": 4
}
